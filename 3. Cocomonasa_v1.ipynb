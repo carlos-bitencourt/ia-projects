{
 "cells": [
  {
   "cell_type": "markdown",
   "id": "2abd775e",
   "metadata": {},
   "source": [
    "## Cocomo Nasa V1"
   ]
  },
  {
   "cell_type": "code",
   "execution_count": 5,
   "id": "e23a6dcf",
   "metadata": {},
   "outputs": [],
   "source": [
    "import numpy as np\n",
    "\n",
    "import pandas as pd\n",
    "import matplotlib.pyplot as plt\n",
    "\n",
    "from scipy.io import arff\n",
    "\n",
    "#algoritmos ia\n",
    "from sklearn.neighbors import KNeighborsRegressor \n",
    "from sklearn.neural_network import MLPRegressor\n",
    "from sklearn.ensemble import RandomForestRegressor\n",
    "from sklearn import svm \n",
    "\n",
    "from sklearn import model_selection as ms\n",
    "from sklearn.model_selection import GridSearchCV\n",
    "from sklearn.tree import DecisionTreeRegressor"
   ]
  },
  {
   "cell_type": "markdown",
   "id": "a647e8c1",
   "metadata": {},
   "source": [
    "## Preparando Dados"
   ]
  },
  {
   "cell_type": "code",
   "execution_count": 6,
   "id": "0208cb7d",
   "metadata": {},
   "outputs": [
    {
     "data": {
      "text/html": [
       "<div>\n",
       "<style scoped>\n",
       "    .dataframe tbody tr th:only-of-type {\n",
       "        vertical-align: middle;\n",
       "    }\n",
       "\n",
       "    .dataframe tbody tr th {\n",
       "        vertical-align: top;\n",
       "    }\n",
       "\n",
       "    .dataframe thead th {\n",
       "        text-align: right;\n",
       "    }\n",
       "</style>\n",
       "<table border=\"1\" class=\"dataframe\">\n",
       "  <thead>\n",
       "    <tr style=\"text-align: right;\">\n",
       "      <th></th>\n",
       "      <th>RELY</th>\n",
       "      <th>DATA</th>\n",
       "      <th>CPLX</th>\n",
       "      <th>TIME</th>\n",
       "      <th>STOR</th>\n",
       "      <th>VIRT</th>\n",
       "      <th>TURN</th>\n",
       "      <th>ACAP</th>\n",
       "      <th>AEXP</th>\n",
       "      <th>PCAP</th>\n",
       "      <th>VEXP</th>\n",
       "      <th>LEXP</th>\n",
       "      <th>MODP</th>\n",
       "      <th>TOOL</th>\n",
       "      <th>SCED</th>\n",
       "      <th>LOC</th>\n",
       "      <th>ACT_EFFORT</th>\n",
       "    </tr>\n",
       "  </thead>\n",
       "  <tbody>\n",
       "    <tr>\n",
       "      <th>0</th>\n",
       "      <td>b'Nominal'</td>\n",
       "      <td>b'High'</td>\n",
       "      <td>b'Very_High'</td>\n",
       "      <td>b'Nominal'</td>\n",
       "      <td>b'Nominal'</td>\n",
       "      <td>b'Low'</td>\n",
       "      <td>b'Nominal'</td>\n",
       "      <td>b'High'</td>\n",
       "      <td>b'Nominal'</td>\n",
       "      <td>b'Very_High'</td>\n",
       "      <td>b'Low'</td>\n",
       "      <td>b'Nominal'</td>\n",
       "      <td>b'High'</td>\n",
       "      <td>b'Nominal'</td>\n",
       "      <td>b'Low'</td>\n",
       "      <td>70.0</td>\n",
       "      <td>278.0</td>\n",
       "    </tr>\n",
       "    <tr>\n",
       "      <th>1</th>\n",
       "      <td>b'Very_High'</td>\n",
       "      <td>b'High'</td>\n",
       "      <td>b'High'</td>\n",
       "      <td>b'Very_High'</td>\n",
       "      <td>b'Very_High'</td>\n",
       "      <td>b'Nominal'</td>\n",
       "      <td>b'Nominal'</td>\n",
       "      <td>b'Very_High'</td>\n",
       "      <td>b'Very_High'</td>\n",
       "      <td>b'Very_High'</td>\n",
       "      <td>b'Nominal'</td>\n",
       "      <td>b'High'</td>\n",
       "      <td>b'High'</td>\n",
       "      <td>b'High'</td>\n",
       "      <td>b'Low'</td>\n",
       "      <td>227.0</td>\n",
       "      <td>1181.0</td>\n",
       "    </tr>\n",
       "    <tr>\n",
       "      <th>2</th>\n",
       "      <td>b'Nominal'</td>\n",
       "      <td>b'High'</td>\n",
       "      <td>b'High'</td>\n",
       "      <td>b'Very_High'</td>\n",
       "      <td>b'High'</td>\n",
       "      <td>b'Low'</td>\n",
       "      <td>b'High'</td>\n",
       "      <td>b'High'</td>\n",
       "      <td>b'Nominal'</td>\n",
       "      <td>b'High'</td>\n",
       "      <td>b'Low'</td>\n",
       "      <td>b'High'</td>\n",
       "      <td>b'High'</td>\n",
       "      <td>b'Nominal'</td>\n",
       "      <td>b'Low'</td>\n",
       "      <td>177.9</td>\n",
       "      <td>1248.0</td>\n",
       "    </tr>\n",
       "    <tr>\n",
       "      <th>3</th>\n",
       "      <td>b'High'</td>\n",
       "      <td>b'Low'</td>\n",
       "      <td>b'High'</td>\n",
       "      <td>b'Nominal'</td>\n",
       "      <td>b'Nominal'</td>\n",
       "      <td>b'Low'</td>\n",
       "      <td>b'Low'</td>\n",
       "      <td>b'Nominal'</td>\n",
       "      <td>b'Nominal'</td>\n",
       "      <td>b'Nominal'</td>\n",
       "      <td>b'Nominal'</td>\n",
       "      <td>b'High'</td>\n",
       "      <td>b'High'</td>\n",
       "      <td>b'Nominal'</td>\n",
       "      <td>b'Low'</td>\n",
       "      <td>115.8</td>\n",
       "      <td>480.0</td>\n",
       "    </tr>\n",
       "    <tr>\n",
       "      <th>4</th>\n",
       "      <td>b'High'</td>\n",
       "      <td>b'Low'</td>\n",
       "      <td>b'High'</td>\n",
       "      <td>b'Nominal'</td>\n",
       "      <td>b'Nominal'</td>\n",
       "      <td>b'Low'</td>\n",
       "      <td>b'Low'</td>\n",
       "      <td>b'Nominal'</td>\n",
       "      <td>b'Nominal'</td>\n",
       "      <td>b'Nominal'</td>\n",
       "      <td>b'Nominal'</td>\n",
       "      <td>b'High'</td>\n",
       "      <td>b'High'</td>\n",
       "      <td>b'Nominal'</td>\n",
       "      <td>b'Low'</td>\n",
       "      <td>29.5</td>\n",
       "      <td>120.0</td>\n",
       "    </tr>\n",
       "  </tbody>\n",
       "</table>\n",
       "</div>"
      ],
      "text/plain": [
       "           RELY     DATA          CPLX          TIME          STOR  \\\n",
       "0    b'Nominal'  b'High'  b'Very_High'    b'Nominal'    b'Nominal'   \n",
       "1  b'Very_High'  b'High'       b'High'  b'Very_High'  b'Very_High'   \n",
       "2    b'Nominal'  b'High'       b'High'  b'Very_High'       b'High'   \n",
       "3       b'High'   b'Low'       b'High'    b'Nominal'    b'Nominal'   \n",
       "4       b'High'   b'Low'       b'High'    b'Nominal'    b'Nominal'   \n",
       "\n",
       "         VIRT        TURN          ACAP          AEXP          PCAP  \\\n",
       "0      b'Low'  b'Nominal'       b'High'    b'Nominal'  b'Very_High'   \n",
       "1  b'Nominal'  b'Nominal'  b'Very_High'  b'Very_High'  b'Very_High'   \n",
       "2      b'Low'     b'High'       b'High'    b'Nominal'       b'High'   \n",
       "3      b'Low'      b'Low'    b'Nominal'    b'Nominal'    b'Nominal'   \n",
       "4      b'Low'      b'Low'    b'Nominal'    b'Nominal'    b'Nominal'   \n",
       "\n",
       "         VEXP        LEXP     MODP        TOOL    SCED    LOC  ACT_EFFORT  \n",
       "0      b'Low'  b'Nominal'  b'High'  b'Nominal'  b'Low'   70.0       278.0  \n",
       "1  b'Nominal'     b'High'  b'High'     b'High'  b'Low'  227.0      1181.0  \n",
       "2      b'Low'     b'High'  b'High'  b'Nominal'  b'Low'  177.9      1248.0  \n",
       "3  b'Nominal'     b'High'  b'High'  b'Nominal'  b'Low'  115.8       480.0  \n",
       "4  b'Nominal'     b'High'  b'High'  b'Nominal'  b'Low'   29.5       120.0  "
      ]
     },
     "execution_count": 6,
     "metadata": {},
     "output_type": "execute_result"
    }
   ],
   "source": [
    "#Carregando dados\n",
    "\n",
    "data, meta = arff.loadarff('datasets/cocomonasa_v1.arff')\n",
    "df = pd.DataFrame(data)\n",
    "df.head()"
   ]
  },
  {
   "cell_type": "code",
   "execution_count": 7,
   "id": "00ef2b92",
   "metadata": {},
   "outputs": [],
   "source": [
    "#removendo linhas com atributos nulos ou vazios\n",
    "\n",
    "df = df.dropna()\n",
    "\n",
    "#Convertendo atributos textuais em numeric com escala de atributos (ainda sem normalização) \"OrdinalEncoder\"\n",
    "\n",
    "tranform_data = {b\"Very_Low\": 0, b\"Low\": 1, b\"Nominal\": 2, b\"High\": 3, b\"Very_High\": 4, b\"Extra_High\": 5}\n",
    "df = df.replace(tranform_data)\n",
    "\n",
    "#normalizando dados - #min-max df=(df-df.min())/(df.max()-df.min()) - #zscore df=(df-df.mean())/df.std()\n",
    "\n",
    "df = (df-df.mean())/df.std()\n",
    "\n",
    "#separando atributo classe ACT_Effort para entrada nos modelos #df.columns[-1]\n",
    "\n",
    "X = df.drop(df.columns[-1], axis=1)\n",
    "y = df.take([-1], axis=1).values"
   ]
  },
  {
   "cell_type": "markdown",
   "id": "da92361e",
   "metadata": {},
   "source": [
    "## Treinando e avaliando o desempenho dos modelos"
   ]
  },
  {
   "cell_type": "code",
   "execution_count": 8,
   "id": "76f23eef",
   "metadata": {},
   "outputs": [],
   "source": [
    "models = []\n",
    "#Instanciando os modelos\n",
    "models.append(['KNN', KNeighborsRegressor(n_neighbors=5)]) \n",
    "models.append(['MLP', MLPRegressor(activation='logistic', solver='sgd', alpha=0.02, max_iter=300, hidden_layer_sizes=200)])\n",
    "models.append(['RFR', RandomForestRegressor()])\n",
    "models.append(['SVR', svm.SVR()])\n",
    "\n",
    "cv = ms.KFold(n_splits=3, shuffle=True, random_state=1)"
   ]
  },
  {
   "cell_type": "code",
   "execution_count": 9,
   "id": "a48ba701",
   "metadata": {},
   "outputs": [
    {
     "name": "stdout",
     "output_type": "stream",
     "text": [
      "- KNN ------------------------------------\n",
      "Scores: [0.65105381 0.41409165 0.37898784] MAE: 0.4814 STD: 0.1208\n"
     ]
    },
    {
     "name": "stderr",
     "output_type": "stream",
     "text": [
      "/home/carlos/.local/lib/python3.8/site-packages/sklearn/neural_network/_multilayer_perceptron.py:1599: DataConversionWarning: A column-vector y was passed when a 1d array was expected. Please change the shape of y to (n_samples, ), for example using ravel().\n",
      "  y = column_or_1d(y, warn=True)\n",
      "/home/carlos/.local/lib/python3.8/site-packages/sklearn/neural_network/_multilayer_perceptron.py:1599: DataConversionWarning: A column-vector y was passed when a 1d array was expected. Please change the shape of y to (n_samples, ), for example using ravel().\n",
      "  y = column_or_1d(y, warn=True)\n",
      "/home/carlos/.local/lib/python3.8/site-packages/sklearn/neural_network/_multilayer_perceptron.py:1599: DataConversionWarning: A column-vector y was passed when a 1d array was expected. Please change the shape of y to (n_samples, ), for example using ravel().\n",
      "  y = column_or_1d(y, warn=True)\n",
      "/home/carlos/.local/lib/python3.8/site-packages/sklearn/neural_network/_multilayer_perceptron.py:692: ConvergenceWarning: Stochastic Optimizer: Maximum iterations (300) reached and the optimization hasn't converged yet.\n",
      "  warnings.warn(\n",
      "/home/carlos/.local/lib/python3.8/site-packages/sklearn/neural_network/_multilayer_perceptron.py:692: ConvergenceWarning: Stochastic Optimizer: Maximum iterations (300) reached and the optimization hasn't converged yet.\n",
      "  warnings.warn(\n",
      "/home/carlos/.local/lib/python3.8/site-packages/sklearn/neural_network/_multilayer_perceptron.py:692: ConvergenceWarning: Stochastic Optimizer: Maximum iterations (300) reached and the optimization hasn't converged yet.\n",
      "  warnings.warn(\n"
     ]
    },
    {
     "name": "stdout",
     "output_type": "stream",
     "text": [
      "- MLP ------------------------------------\n",
      "Scores: [0.61380527 0.40160267 0.45728306] MAE: 0.4909 STD: 0.0898\n"
     ]
    },
    {
     "name": "stderr",
     "output_type": "stream",
     "text": [
      "/home/carlos/.local/lib/python3.8/site-packages/sklearn/model_selection/_validation.py:681: DataConversionWarning: A column-vector y was passed when a 1d array was expected. Please change the shape of y to (n_samples,), for example using ravel().\n",
      "  estimator.fit(X_train, y_train, **fit_params)\n",
      "/home/carlos/.local/lib/python3.8/site-packages/sklearn/model_selection/_validation.py:681: DataConversionWarning: A column-vector y was passed when a 1d array was expected. Please change the shape of y to (n_samples,), for example using ravel().\n",
      "  estimator.fit(X_train, y_train, **fit_params)\n",
      "/home/carlos/.local/lib/python3.8/site-packages/sklearn/model_selection/_validation.py:681: DataConversionWarning: A column-vector y was passed when a 1d array was expected. Please change the shape of y to (n_samples,), for example using ravel().\n",
      "  estimator.fit(X_train, y_train, **fit_params)\n"
     ]
    },
    {
     "name": "stdout",
     "output_type": "stream",
     "text": [
      "- RFR ------------------------------------\n",
      "Scores: [0.32787999 0.24897435 0.11068234] MAE: 0.2292 STD: 0.0898\n",
      "- SVR ------------------------------------\n",
      "Scores: [0.53730604 0.29982776 0.33528374] MAE: 0.3908 STD: 0.1046\n"
     ]
    },
    {
     "name": "stderr",
     "output_type": "stream",
     "text": [
      "/home/carlos/.local/lib/python3.8/site-packages/sklearn/utils/validation.py:985: DataConversionWarning: A column-vector y was passed when a 1d array was expected. Please change the shape of y to (n_samples, ), for example using ravel().\n",
      "  y = column_or_1d(y, warn=True)\n",
      "/home/carlos/.local/lib/python3.8/site-packages/sklearn/utils/validation.py:985: DataConversionWarning: A column-vector y was passed when a 1d array was expected. Please change the shape of y to (n_samples, ), for example using ravel().\n",
      "  y = column_or_1d(y, warn=True)\n",
      "/home/carlos/.local/lib/python3.8/site-packages/sklearn/utils/validation.py:985: DataConversionWarning: A column-vector y was passed when a 1d array was expected. Please change the shape of y to (n_samples, ), for example using ravel().\n",
      "  y = column_or_1d(y, warn=True)\n"
     ]
    }
   ],
   "source": [
    "for model in models:\n",
    "    \n",
    "    scores = ms.cross_val_score(model[1], X, y, scoring='neg_mean_absolute_error', cv=cv, n_jobs=-1)\n",
    "    #converter para positivo.\n",
    "    scores = np.absolute(scores)\n",
    "    s_mean = np.mean(scores)\n",
    "    s_std = np.std(scores)\n",
    "    \n",
    "    print('-', model[0],'------------------------------------')\n",
    "    print('Scores:', scores, 'MAE: %.4f' % (s_mean), 'STD: %.4f' % (s_std)) "
   ]
  },
  {
   "cell_type": "code",
   "execution_count": 4,
   "id": "3b3e6322",
   "metadata": {},
   "outputs": [
    {
     "ename": "NameError",
     "evalue": "name 'DecisionTreeRegressor' is not defined",
     "output_type": "error",
     "traceback": [
      "\u001b[0;31m---------------------------------------------------------------------------\u001b[0m",
      "\u001b[0;31mNameError\u001b[0m                                 Traceback (most recent call last)",
      "\u001b[1;32m/home/carlos/Dev/ia-projects/3. Cocomonasa_v1.ipynb Cell 9'\u001b[0m in \u001b[0;36m<cell line: 3>\u001b[0;34m()\u001b[0m\n\u001b[1;32m      <a href='vscode-notebook-cell://wsl%2Bubuntu/home/carlos/Dev/ia-projects/3.%20Cocomonasa_v1.ipynb#ch0000008vscode-remote?line=0'>1</a>\u001b[0m models \u001b[39m=\u001b[39m []\n\u001b[1;32m      <a href='vscode-notebook-cell://wsl%2Bubuntu/home/carlos/Dev/ia-projects/3.%20Cocomonasa_v1.ipynb#ch0000008vscode-remote?line=1'>2</a>\u001b[0m \u001b[39m#Instanciando os modelos #0 - nome, 1 - instância, 2 - parâmetros\u001b[39;00m\n\u001b[0;32m----> <a href='vscode-notebook-cell://wsl%2Bubuntu/home/carlos/Dev/ia-projects/3.%20Cocomonasa_v1.ipynb#ch0000008vscode-remote?line=2'>3</a>\u001b[0m models\u001b[39m.\u001b[39mappend([\u001b[39m'\u001b[39m\u001b[39mDT\u001b[39m\u001b[39m'\u001b[39m, DecisionTreeRegressor(), { \u001b[39m\"\u001b[39m\u001b[39mcriterion\u001b[39m\u001b[39m\"\u001b[39m : [\u001b[39m\"\u001b[39m\u001b[39msquared_error\u001b[39m\u001b[39m\"\u001b[39m, \u001b[39m\"\u001b[39m\u001b[39mfriedman_mse\u001b[39m\u001b[39m\"\u001b[39m, \u001b[39m\"\u001b[39m\u001b[39mabsolute_error\u001b[39m\u001b[39m\"\u001b[39m],\n\u001b[1;32m      <a href='vscode-notebook-cell://wsl%2Bubuntu/home/carlos/Dev/ia-projects/3.%20Cocomonasa_v1.ipynb#ch0000008vscode-remote?line=3'>4</a>\u001b[0m                                                 \u001b[39m\"\u001b[39m\u001b[39msplitter\u001b[39m\u001b[39m\"\u001b[39m: [\u001b[39m\"\u001b[39m\u001b[39mbest\u001b[39m\u001b[39m\"\u001b[39m, \u001b[39m\"\u001b[39m\u001b[39mrandom\u001b[39m\u001b[39m\"\u001b[39m],\n\u001b[1;32m      <a href='vscode-notebook-cell://wsl%2Bubuntu/home/carlos/Dev/ia-projects/3.%20Cocomonasa_v1.ipynb#ch0000008vscode-remote?line=4'>5</a>\u001b[0m                                                 \u001b[39m\"\u001b[39m\u001b[39mmax_depth\u001b[39m\u001b[39m\"\u001b[39m: np\u001b[39m.\u001b[39marange(\u001b[39m4\u001b[39m,\u001b[39m12\u001b[39m,\u001b[39m2\u001b[39m),\n\u001b[1;32m      <a href='vscode-notebook-cell://wsl%2Bubuntu/home/carlos/Dev/ia-projects/3.%20Cocomonasa_v1.ipynb#ch0000008vscode-remote?line=5'>6</a>\u001b[0m                                                 \u001b[39m\"\u001b[39m\u001b[39mrandom_state\u001b[39m\u001b[39m\"\u001b[39m: np\u001b[39m.\u001b[39marange(\u001b[39m2\u001b[39m,\u001b[39m6\u001b[39m)\n\u001b[1;32m      <a href='vscode-notebook-cell://wsl%2Bubuntu/home/carlos/Dev/ia-projects/3.%20Cocomonasa_v1.ipynb#ch0000008vscode-remote?line=6'>7</a>\u001b[0m                                                 }])\n\u001b[1;32m      <a href='vscode-notebook-cell://wsl%2Bubuntu/home/carlos/Dev/ia-projects/3.%20Cocomonasa_v1.ipynb#ch0000008vscode-remote?line=7'>8</a>\u001b[0m models\u001b[39m.\u001b[39mappend([\u001b[39m'\u001b[39m\u001b[39mKNN\u001b[39m\u001b[39m'\u001b[39m, KNeighborsRegressor(), {  \u001b[39m\"\u001b[39m\u001b[39mn_neighbors\u001b[39m\u001b[39m\"\u001b[39m : np\u001b[39m.\u001b[39marange(\u001b[39m1\u001b[39m,\u001b[39m10\u001b[39m),\n\u001b[1;32m      <a href='vscode-notebook-cell://wsl%2Bubuntu/home/carlos/Dev/ia-projects/3.%20Cocomonasa_v1.ipynb#ch0000008vscode-remote?line=8'>9</a>\u001b[0m                                                 \u001b[39m\"\u001b[39m\u001b[39mweights\u001b[39m\u001b[39m\"\u001b[39m: [\u001b[39m\"\u001b[39m\u001b[39muniform\u001b[39m\u001b[39m\"\u001b[39m, \u001b[39m\"\u001b[39m\u001b[39mdistance\u001b[39m\u001b[39m\"\u001b[39m],\n\u001b[1;32m     <a href='vscode-notebook-cell://wsl%2Bubuntu/home/carlos/Dev/ia-projects/3.%20Cocomonasa_v1.ipynb#ch0000008vscode-remote?line=9'>10</a>\u001b[0m                                                 \u001b[39m\"\u001b[39m\u001b[39malgorithm\u001b[39m\u001b[39m\"\u001b[39m: [\u001b[39m'\u001b[39m\u001b[39mauto\u001b[39m\u001b[39m'\u001b[39m, \u001b[39m'\u001b[39m\u001b[39mball_tree\u001b[39m\u001b[39m'\u001b[39m, \u001b[39m'\u001b[39m\u001b[39mkd_tree\u001b[39m\u001b[39m'\u001b[39m, \u001b[39m'\u001b[39m\u001b[39mbrute\u001b[39m\u001b[39m'\u001b[39m]\n\u001b[1;32m     <a href='vscode-notebook-cell://wsl%2Bubuntu/home/carlos/Dev/ia-projects/3.%20Cocomonasa_v1.ipynb#ch0000008vscode-remote?line=10'>11</a>\u001b[0m                                                 }])\n\u001b[1;32m     <a href='vscode-notebook-cell://wsl%2Bubuntu/home/carlos/Dev/ia-projects/3.%20Cocomonasa_v1.ipynb#ch0000008vscode-remote?line=11'>12</a>\u001b[0m models\u001b[39m.\u001b[39mappend([\u001b[39m'\u001b[39m\u001b[39mMLP\u001b[39m\u001b[39m'\u001b[39m, MLPRegressor(), {\u001b[39m\"\u001b[39m\u001b[39mhidden_layer_sizes\u001b[39m\u001b[39m\"\u001b[39m: np\u001b[39m.\u001b[39marange(\u001b[39m10\u001b[39m,\u001b[39m100\u001b[39m,\u001b[39m10\u001b[39m),\n\u001b[1;32m     <a href='vscode-notebook-cell://wsl%2Bubuntu/home/carlos/Dev/ia-projects/3.%20Cocomonasa_v1.ipynb#ch0000008vscode-remote?line=12'>13</a>\u001b[0m                                                 \u001b[39m\"\u001b[39m\u001b[39mactivation\u001b[39m\u001b[39m\"\u001b[39m: [\u001b[39m'\u001b[39m\u001b[39midentity\u001b[39m\u001b[39m'\u001b[39m, \u001b[39m'\u001b[39m\u001b[39mlogistic\u001b[39m\u001b[39m'\u001b[39m, \u001b[39m'\u001b[39m\u001b[39mtanh\u001b[39m\u001b[39m'\u001b[39m, \u001b[39m'\u001b[39m\u001b[39mrelu\u001b[39m\u001b[39m'\u001b[39m],\n\u001b[1;32m     <a href='vscode-notebook-cell://wsl%2Bubuntu/home/carlos/Dev/ia-projects/3.%20Cocomonasa_v1.ipynb#ch0000008vscode-remote?line=13'>14</a>\u001b[0m                                                 \u001b[39m\"\u001b[39m\u001b[39msolver\u001b[39m\u001b[39m\"\u001b[39m: [\u001b[39m'\u001b[39m\u001b[39mlbfgs\u001b[39m\u001b[39m'\u001b[39m, \u001b[39m'\u001b[39m\u001b[39msgd\u001b[39m\u001b[39m'\u001b[39m, \u001b[39m'\u001b[39m\u001b[39madam\u001b[39m\u001b[39m'\u001b[39m],\n\u001b[1;32m     <a href='vscode-notebook-cell://wsl%2Bubuntu/home/carlos/Dev/ia-projects/3.%20Cocomonasa_v1.ipynb#ch0000008vscode-remote?line=14'>15</a>\u001b[0m                                                 \u001b[39m\"\u001b[39m\u001b[39mrandom_state\u001b[39m\u001b[39m\"\u001b[39m: np\u001b[39m.\u001b[39marange(\u001b[39m2\u001b[39m,\u001b[39m6\u001b[39m),\n\u001b[1;32m     <a href='vscode-notebook-cell://wsl%2Bubuntu/home/carlos/Dev/ia-projects/3.%20Cocomonasa_v1.ipynb#ch0000008vscode-remote?line=15'>16</a>\u001b[0m                                                 \u001b[39m\"\u001b[39m\u001b[39mmax_iter\u001b[39m\u001b[39m\"\u001b[39m: [\u001b[39m1500\u001b[39m]\n\u001b[1;32m     <a href='vscode-notebook-cell://wsl%2Bubuntu/home/carlos/Dev/ia-projects/3.%20Cocomonasa_v1.ipynb#ch0000008vscode-remote?line=16'>17</a>\u001b[0m                                                 }])\n",
      "\u001b[0;31mNameError\u001b[0m: name 'DecisionTreeRegressor' is not defined"
     ]
    }
   ],
   "source": [
    "models = []\n",
    "#Instanciando os modelos #0 - nome, 1 - instância, 2 - parâmetros\n",
    "models.append(['DT', DecisionTreeRegressor(), { \"criterion\" : [\"squared_error\", \"friedman_mse\", \"absolute_error\"],\n",
    "                                                \"splitter\": [\"best\", \"random\"],\n",
    "                                                \"max_depth\": np.arange(4,12,2),\n",
    "                                                \"random_state\": np.arange(2,6)\n",
    "                                                }])\n",
    "models.append(['KNN', KNeighborsRegressor(), {  \"n_neighbors\" : np.arange(1,10),\n",
    "                                                \"weights\": [\"uniform\", \"distance\"],\n",
    "                                                \"algorithm\": ['auto', 'ball_tree', 'kd_tree', 'brute']\n",
    "                                                }])\n",
    "models.append(['MLP', MLPRegressor(), {\"hidden_layer_sizes\": np.arange(10,100,10),\n",
    "                                                \"activation\": ['identity', 'logistic', 'tanh', 'relu'],\n",
    "                                                \"solver\": ['lbfgs', 'sgd', 'adam'],\n",
    "                                                \"random_state\": np.arange(2,6),\n",
    "                                                \"max_iter\": [1500]\n",
    "                                                }])\n",
    "models.append(['RFR', RandomForestRegressor(), {\"n_estimators\": np.arange(5,20,5),\n",
    "                                                    \"max_depth\" : np.arange(2,14,2),\n",
    "                                                    \"random_state\": np.arange(2,6),\n",
    "                                                    }])\n",
    "models.append(['SVR', svm.SVR(), { \"kernel\" : [ 'poly', 'linear', 'rbf', 'sigmoid'], \n",
    "                                        \"C\": np.arange(2,14,2), #1 a 10\n",
    "                                        \"epsilon\": np.arange(0.001,0.1,0.002), # 0.1 a 0.9\n",
    "                                    }])"
   ]
  },
  {
   "cell_type": "code",
   "execution_count": null,
   "id": "8f636e31",
   "metadata": {},
   "outputs": [],
   "source": [
    "for model in models:\n",
    "    clf = GridSearchCV(model[1], model[2], scoring='neg_mean_absolute_error',  cv=cv,  n_jobs=-1)\n",
    "    clf.fit(X, y.values.ravel())\n",
    "    print(\">\", model[0], \">------ MAE: %.4f\" % (np.absolute(clf.best_score_)), \" ----- STD: %.4f\" % (clf.cv_results_['std_test_score'][clf.best_index_]), \" ----- Best Params:\", (clf.best_params_))"
   ]
  }
 ],
 "metadata": {
  "kernelspec": {
   "display_name": "Python 3.8.10 64-bit",
   "language": "python",
   "name": "python3"
  },
  "language_info": {
   "codemirror_mode": {
    "name": "ipython",
    "version": 3
   },
   "file_extension": ".py",
   "mimetype": "text/x-python",
   "name": "python",
   "nbconvert_exporter": "python",
   "pygments_lexer": "ipython3",
   "version": "3.8.10"
  },
  "vscode": {
   "interpreter": {
    "hash": "e7370f93d1d0cde622a1f8e1c04877d8463912d04d973331ad4851f04de6915a"
   }
  }
 },
 "nbformat": 4,
 "nbformat_minor": 5
}
