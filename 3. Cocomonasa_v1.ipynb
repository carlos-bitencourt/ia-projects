{
 "cells": [
  {
   "cell_type": "markdown",
   "id": "2abd775e",
   "metadata": {},
   "source": [
    "## Cocomo Nasa V1"
   ]
  },
  {
   "cell_type": "code",
   "execution_count": null,
   "id": "e23a6dcf",
   "metadata": {},
   "outputs": [],
   "source": [
    "import numpy as np\n",
    "\n",
    "import pandas as pd\n",
    "import matplotlib.pyplot as plt\n",
    "\n",
    "from scipy.io import arff\n",
    "\n",
    "#algoritmos ia\n",
    "from sklearn.neighbors import KNeighborsRegressor \n",
    "from sklearn.neural_network import MLPRegressor\n",
    "from sklearn.ensemble import RandomForestRegressor\n",
    "from sklearn import svm \n",
    "from sklearn.tree import DecisionTreeRegressor\n",
    "\n",
    "from sklearn import model_selection as ms\n",
    "from sklearn.model_selection import GridSearchCV"
   ]
  },
  {
   "cell_type": "markdown",
   "id": "a647e8c1",
   "metadata": {},
   "source": [
    "## Preparando Dados"
   ]
  },
  {
   "cell_type": "code",
   "execution_count": null,
   "id": "0208cb7d",
   "metadata": {},
   "outputs": [],
   "source": [
    "#Carregando dados\n",
    "\n",
    "data, meta = arff.loadarff('datasets/cocomonasa_v1.arff')\n",
    "df = pd.DataFrame(data)\n",
    "df.head()"
   ]
  },
  {
   "cell_type": "code",
   "execution_count": null,
   "id": "00ef2b92",
   "metadata": {},
   "outputs": [],
   "source": [
    "#removendo linhas com atributos nulos ou vazios\n",
    "\n",
    "df = df.dropna()\n",
    "\n",
    "#Convertendo atributos textuais em numeric com escala de atributos (ainda sem normalização) \"OrdinalEncoder\"\n",
    "\n",
    "tranform_data = {b\"Very_Low\": 0, b\"Low\": 1, b\"Nominal\": 2, b\"High\": 3, b\"Very_High\": 4, b\"Extra_High\": 5}\n",
    "df = df.replace(tranform_data)\n",
    "\n",
    "#normalizando dados - #min-max df=(df-df.min())/(df.max()-df.min()) - #zscore df=(df-df.mean())/df.std()\n",
    "\n",
    "df = (df-df.mean())/df.std()\n",
    "\n",
    "#separando atributo classe ACT_Effort para entrada nos modelos #df.columns[-1]\n",
    "\n",
    "X = df.drop(df.columns[-1], axis=1)\n",
    "y = df.take([-1], axis=1).values.ravel()"
   ]
  },
  {
   "cell_type": "markdown",
   "id": "da92361e",
   "metadata": {},
   "source": [
    "## Treinando e avaliando o desempenho dos modelos"
   ]
  },
  {
   "cell_type": "code",
   "execution_count": 103,
   "id": "3b3e6322",
   "metadata": {},
   "outputs": [],
   "source": [
    "cv = ms.KFold(n_splits=3, shuffle=True, random_state=1)\n",
    "\n",
    "models = []\n",
    "#Instanciando os modelos #0 - nome, 1 - instância, 2 - parâmetros\n",
    "models.append([' DT', DecisionTreeRegressor(), { \"criterion\" : [\"squared_error\", \"friedman_mse\", \"absolute_error\"],\n",
    "                                                \"splitter\": [\"best\", \"random\"],\n",
    "                                                \"max_depth\": np.arange(4,12),\n",
    "                                                \"random_state\": np.arange(2,6)\n",
    "                                                }])\n",
    "models.append(['KNN', KNeighborsRegressor(), {  \"n_neighbors\" : np.arange(1,10),\n",
    "                                                \"weights\": [\"uniform\", \"distance\"],\n",
    "                                                \"algorithm\": ['auto', 'ball_tree', 'kd_tree', 'brute']\n",
    "                                                }])\n",
    "models.append(['MLP', MLPRegressor(), {\"hidden_layer_sizes\": np.arange(10,100,10),\n",
    "                                                \"activation\": ['identity', 'logistic', 'tanh', 'relu'],\n",
    "                                                \"solver\": ['lbfgs', 'sgd', 'adam'],\n",
    "                                                \"random_state\": [5], #  np.arange(2,6), fixado para reduzir tempo de processamento.\n",
    "                                                \"max_iter\": [1500]\n",
    "                                                }])\n",
    "models.append(['RFR', RandomForestRegressor(), {\"n_estimators\": np.arange(5,20,5),\n",
    "                                                    \"max_depth\" : np.arange(2,14,2),\n",
    "                                                    \"random_state\": np.arange(2,6),\n",
    "                                                    }])\n",
    "models.append(['SVR', svm.SVR(), { \"kernel\" : [ 'poly', 'linear', 'rbf', 'sigmoid'], \n",
    "                                        \"C\": np.arange(2,14,2), \n",
    "                                        \"epsilon\": np.arange(0.001,0.1,0.001), # 0.1 a 0.9\n",
    "                                    }])"
   ]
  },
  {
   "cell_type": "code",
   "execution_count": 104,
   "id": "8f636e31",
   "metadata": {},
   "outputs": [
    {
     "name": "stdout",
     "output_type": "stream",
     "text": [
      ">  DT >------ MAE: 0.798  ----- STD: 0.013  ----- Best Params: {'criterion': 'absolute_error', 'max_depth': 9, 'random_state': 3, 'splitter': 'random'}\n",
      "> KNN >------ MAE: 0.608  ----- STD: 0.133  ----- Best Params: {'algorithm': 'auto', 'n_neighbors': 8, 'weights': 'distance'}\n",
      "> MLP >------ MAE: 0.783  ----- STD: 0.055  ----- Best Params: {'activation': 'tanh', 'hidden_layer_sizes': 50, 'max_iter': 1500, 'random_state': 5, 'solver': 'lbfgs'}\n",
      "> RFR >------ MAE: 0.808  ----- STD: 0.047  ----- Best Params: {'max_depth': 10, 'n_estimators': 5, 'random_state': 4}\n",
      "> SVR >------ MAE: 0.757  ----- STD: 0.020  ----- Best Params: {'C': 12, 'epsilon': 0.004, 'kernel': 'poly'}\n"
     ]
    }
   ],
   "source": [
    "for model in models:\n",
    "    clf = GridSearchCV(model[1], model[2], scoring='neg_mean_absolute_error',  cv=cv,  n_jobs=-1)\n",
    "    clf.fit(X, y)\n",
    "    print(\">\", model[0], \">------ MAE: %.3f\" % (1 + clf.best_score_), \" ----- STD: %.3f\" % (clf.cv_results_['std_test_score'][clf.best_index_]), \" ----- Best Params:\", (clf.best_params_))"
   ]
  }
 ],
 "metadata": {
  "kernelspec": {
   "display_name": "Python 3.8.10 64-bit",
   "language": "python",
   "name": "python3"
  },
  "language_info": {
   "codemirror_mode": {
    "name": "ipython",
    "version": 3
   },
   "file_extension": ".py",
   "mimetype": "text/x-python",
   "name": "python",
   "nbconvert_exporter": "python",
   "pygments_lexer": "ipython3",
   "version": "3.8.10"
  },
  "vscode": {
   "interpreter": {
    "hash": "e7370f93d1d0cde622a1f8e1c04877d8463912d04d973331ad4851f04de6915a"
   }
  }
 },
 "nbformat": 4,
 "nbformat_minor": 5
}
