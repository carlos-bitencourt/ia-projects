{
 "cells": [
  {
   "cell_type": "markdown",
   "id": "2abd775e",
   "metadata": {},
   "source": [
    "## Desharnais"
   ]
  },
  {
   "cell_type": "code",
   "execution_count": 2,
   "id": "e23a6dcf",
   "metadata": {},
   "outputs": [],
   "source": [
    "import numpy as np\n",
    "\n",
    "import pandas as pd\n",
    "import matplotlib.pyplot as plt\n",
    "\n",
    "from scipy.io import arff\n",
    "\n",
    "#algoritmos ia\n",
    "from sklearn.neighbors import KNeighborsRegressor \n",
    "from sklearn.neural_network import MLPRegressor\n",
    "from sklearn.ensemble import RandomForestRegressor\n",
    "from sklearn import svm \n",
    "\n",
    "from sklearn import model_selection as ms\n",
    "from sklearn.datasets import make_regression"
   ]
  },
  {
   "cell_type": "markdown",
   "id": "a647e8c1",
   "metadata": {},
   "source": [
    "## Preparando Dados"
   ]
  },
  {
   "cell_type": "code",
   "execution_count": 26,
   "id": "0208cb7d",
   "metadata": {},
   "outputs": [
    {
     "data": {
      "text/html": [
       "<div>\n",
       "<style scoped>\n",
       "    .dataframe tbody tr th:only-of-type {\n",
       "        vertical-align: middle;\n",
       "    }\n",
       "\n",
       "    .dataframe tbody tr th {\n",
       "        vertical-align: top;\n",
       "    }\n",
       "\n",
       "    .dataframe thead th {\n",
       "        text-align: right;\n",
       "    }\n",
       "</style>\n",
       "<table border=\"1\" class=\"dataframe\">\n",
       "  <thead>\n",
       "    <tr style=\"text-align: right;\">\n",
       "      <th></th>\n",
       "      <th>Project</th>\n",
       "      <th>TeamExp</th>\n",
       "      <th>ManagerExp</th>\n",
       "      <th>YearEnd</th>\n",
       "      <th>Length</th>\n",
       "      <th>Effort</th>\n",
       "      <th>Transactions</th>\n",
       "      <th>Entities</th>\n",
       "      <th>PointsAdjust</th>\n",
       "      <th>Envergure</th>\n",
       "      <th>PointsNonAjust</th>\n",
       "      <th>Language</th>\n",
       "    </tr>\n",
       "  </thead>\n",
       "  <tbody>\n",
       "    <tr>\n",
       "      <th>0</th>\n",
       "      <td>1.0</td>\n",
       "      <td>1.0</td>\n",
       "      <td>4.0</td>\n",
       "      <td>85.0</td>\n",
       "      <td>12.0</td>\n",
       "      <td>5152.0</td>\n",
       "      <td>253.0</td>\n",
       "      <td>52.0</td>\n",
       "      <td>305.0</td>\n",
       "      <td>34.0</td>\n",
       "      <td>302.0</td>\n",
       "      <td>b'1'</td>\n",
       "    </tr>\n",
       "    <tr>\n",
       "      <th>1</th>\n",
       "      <td>2.0</td>\n",
       "      <td>0.0</td>\n",
       "      <td>0.0</td>\n",
       "      <td>86.0</td>\n",
       "      <td>4.0</td>\n",
       "      <td>5635.0</td>\n",
       "      <td>197.0</td>\n",
       "      <td>124.0</td>\n",
       "      <td>321.0</td>\n",
       "      <td>33.0</td>\n",
       "      <td>315.0</td>\n",
       "      <td>b'1'</td>\n",
       "    </tr>\n",
       "    <tr>\n",
       "      <th>2</th>\n",
       "      <td>3.0</td>\n",
       "      <td>4.0</td>\n",
       "      <td>4.0</td>\n",
       "      <td>85.0</td>\n",
       "      <td>1.0</td>\n",
       "      <td>805.0</td>\n",
       "      <td>40.0</td>\n",
       "      <td>60.0</td>\n",
       "      <td>100.0</td>\n",
       "      <td>18.0</td>\n",
       "      <td>83.0</td>\n",
       "      <td>b'1'</td>\n",
       "    </tr>\n",
       "    <tr>\n",
       "      <th>3</th>\n",
       "      <td>4.0</td>\n",
       "      <td>0.0</td>\n",
       "      <td>0.0</td>\n",
       "      <td>86.0</td>\n",
       "      <td>5.0</td>\n",
       "      <td>3829.0</td>\n",
       "      <td>200.0</td>\n",
       "      <td>119.0</td>\n",
       "      <td>319.0</td>\n",
       "      <td>30.0</td>\n",
       "      <td>303.0</td>\n",
       "      <td>b'1'</td>\n",
       "    </tr>\n",
       "    <tr>\n",
       "      <th>4</th>\n",
       "      <td>5.0</td>\n",
       "      <td>0.0</td>\n",
       "      <td>0.0</td>\n",
       "      <td>86.0</td>\n",
       "      <td>4.0</td>\n",
       "      <td>2149.0</td>\n",
       "      <td>140.0</td>\n",
       "      <td>94.0</td>\n",
       "      <td>234.0</td>\n",
       "      <td>24.0</td>\n",
       "      <td>208.0</td>\n",
       "      <td>b'1'</td>\n",
       "    </tr>\n",
       "  </tbody>\n",
       "</table>\n",
       "</div>"
      ],
      "text/plain": [
       "   Project  TeamExp  ManagerExp  YearEnd  Length  Effort  Transactions  \\\n",
       "0      1.0      1.0         4.0     85.0    12.0  5152.0         253.0   \n",
       "1      2.0      0.0         0.0     86.0     4.0  5635.0         197.0   \n",
       "2      3.0      4.0         4.0     85.0     1.0   805.0          40.0   \n",
       "3      4.0      0.0         0.0     86.0     5.0  3829.0         200.0   \n",
       "4      5.0      0.0         0.0     86.0     4.0  2149.0         140.0   \n",
       "\n",
       "   Entities  PointsAdjust  Envergure  PointsNonAjust Language  \n",
       "0      52.0         305.0       34.0           302.0     b'1'  \n",
       "1     124.0         321.0       33.0           315.0     b'1'  \n",
       "2      60.0         100.0       18.0            83.0     b'1'  \n",
       "3     119.0         319.0       30.0           303.0     b'1'  \n",
       "4      94.0         234.0       24.0           208.0     b'1'  "
      ]
     },
     "execution_count": 26,
     "metadata": {},
     "output_type": "execute_result"
    }
   ],
   "source": [
    "#Carregando dados\n",
    "\n",
    "data, meta = arff.loadarff('datasets/desharnais.arff')\n",
    "df = pd.DataFrame(data)\n",
    "df.head()"
   ]
  },
  {
   "cell_type": "code",
   "execution_count": 27,
   "id": "7539155b",
   "metadata": {},
   "outputs": [],
   "source": [
    "def one_hot_enconder(X_transform, transform_data): #X_transform = data, transform_data = colunas\n",
    "    \n",
    "    for col in transform_data:\n",
    "        cols = X_transform[col].unique() #retorna os valores da categoria que serão transformados em colunas \n",
    "        col_position = X_transform.columns.get_loc(col) #retorna posição da coluna, a partir dessa posição será adicionado as demais\n",
    "        col_values = X_transform.pop(col) #retorna os valores da coluna primordial e apaga e remove \n",
    "        for c in cols: \n",
    "            X_transform.insert(col_position, str(col) + \"_\" + str(c).replace('b\\'','').replace('\\'',''), col_values.eq(c))\n",
    "            col_position += 1\n",
    "\n",
    "    return X_transform.replace({True: 1, False: 0})  "
   ]
  },
  {
   "cell_type": "code",
   "execution_count": 28,
   "id": "6d24ef47",
   "metadata": {},
   "outputs": [],
   "source": [
    "#removendo atributos desnecessário \"Project\" (id do projeto), \"PointsAdjust\" (PoinstNonAjust + fator\n",
    "#de ajustes na técnica de pontos por função) e YearEnd.\n",
    "\n",
    "df = df.drop(['Project','YearEnd', 'PointsAdjust'], axis=1)\n",
    "\n",
    "#removendo linhas com atributos nulos ou vazios\n",
    "\n",
    "df = df.dropna()\n",
    "\n",
    "#Convertendo atributos categóricos em colunas. \"OneHotEncoder\"\n",
    "\n",
    "transform_data = ['Language']\n",
    "df =  one_hot_enconder(df, transform_data)\n",
    "\n",
    "#normalizando dados - #min-max df=(df-df.min())/(df.max()-df.min()) - #zscore df=(df-df.mean())/df.std()\n",
    "\n",
    "df = (df-df.mean())/df.std()\n",
    "\n",
    "#separando atributo classe Effort para entrada nos modelos\n",
    "\n",
    "X = df.drop(['Effort'], axis=1)\n",
    "y = df['Effort']"
   ]
  },
  {
   "cell_type": "markdown",
   "id": "da92361e",
   "metadata": {},
   "source": [
    "## Treinando e avaliando o desempenho dos modelos"
   ]
  },
  {
   "cell_type": "code",
   "execution_count": 29,
   "id": "76f23eef",
   "metadata": {},
   "outputs": [],
   "source": [
    "models = []\n",
    "#Instanciando os modelos\n",
    "models.append(['KNN', KNeighborsRegressor(n_neighbors=5)]) \n",
    "models.append(['MLP', MLPRegressor(activation='logistic', solver='sgd', alpha=0.02, max_iter=300, hidden_layer_sizes=200)])\n",
    "models.append(['RFR', RandomForestRegressor()])\n",
    "models.append(['SVR', svm.SVR()])"
   ]
  },
  {
   "cell_type": "code",
   "execution_count": 30,
   "id": "a48ba701",
   "metadata": {},
   "outputs": [
    {
     "name": "stdout",
     "output_type": "stream",
     "text": [
      "- KNN ------------------------------------\n",
      "Scores: [0.65863484 0.54939163 0.46204835] MAE: 0.5567 STD: 0.0804\n",
      "- MLP ------------------------------------\n",
      "Scores: [0.82196392 0.34494041 0.45481773] MAE: 0.5406 STD: 0.2040\n",
      "- RFR ------------------------------------\n",
      "Scores: [0.63216137 0.52002376 0.44766894] MAE: 0.5333 STD: 0.0759\n",
      "- SVR ------------------------------------\n",
      "Scores: [0.75838534 0.39715315 0.42373082] MAE: 0.5264 STD: 0.1644\n"
     ]
    },
    {
     "name": "stderr",
     "output_type": "stream",
     "text": [
      "/home/carlos/.local/lib/python3.8/site-packages/sklearn/neural_network/_multilayer_perceptron.py:702: ConvergenceWarning: Stochastic Optimizer: Maximum iterations (300) reached and the optimization hasn't converged yet.\n",
      "  warnings.warn(\n",
      "/home/carlos/.local/lib/python3.8/site-packages/sklearn/neural_network/_multilayer_perceptron.py:702: ConvergenceWarning: Stochastic Optimizer: Maximum iterations (300) reached and the optimization hasn't converged yet.\n",
      "  warnings.warn(\n",
      "/home/carlos/.local/lib/python3.8/site-packages/sklearn/neural_network/_multilayer_perceptron.py:702: ConvergenceWarning: Stochastic Optimizer: Maximum iterations (300) reached and the optimization hasn't converged yet.\n",
      "  warnings.warn(\n",
      "/home/carlos/.local/lib/python3.8/site-packages/sklearn/neural_network/_multilayer_perceptron.py:702: ConvergenceWarning: Stochastic Optimizer: Maximum iterations (300) reached and the optimization hasn't converged yet.\n",
      "  warnings.warn(\n",
      "/home/carlos/.local/lib/python3.8/site-packages/sklearn/neural_network/_multilayer_perceptron.py:702: ConvergenceWarning: Stochastic Optimizer: Maximum iterations (300) reached and the optimization hasn't converged yet.\n",
      "  warnings.warn(\n",
      "/home/carlos/.local/lib/python3.8/site-packages/sklearn/neural_network/_multilayer_perceptron.py:702: ConvergenceWarning: Stochastic Optimizer: Maximum iterations (300) reached and the optimization hasn't converged yet.\n",
      "  warnings.warn(\n"
     ]
    }
   ],
   "source": [
    "for model in models:\n",
    "    cv = ms.KFold(n_splits=3, shuffle=True, random_state=1)\n",
    "    scores = ms.cross_val_score(model[1], X, y, scoring='neg_mean_absolute_error', cv=cv, n_jobs=-1)\n",
    "    #converter para positivo.\n",
    "    scores = np.absolute(scores)\n",
    "    s_mean = np.mean(scores)\n",
    "    s_std = np.std(scores)\n",
    "    \n",
    "    print('-', model[0],'------------------------------------')\n",
    "    print('Scores:', scores, 'MAE: %.4f' % (s_mean), 'STD: %.4f' % (s_std)) "
   ]
  },
  {
   "cell_type": "code",
   "execution_count": null,
   "id": "cc79e9c7",
   "metadata": {},
   "outputs": [],
   "source": []
  }
 ],
 "metadata": {
  "kernelspec": {
   "display_name": "Python 3 (ipykernel)",
   "language": "python",
   "name": "python3"
  },
  "language_info": {
   "codemirror_mode": {
    "name": "ipython",
    "version": 3
   },
   "file_extension": ".py",
   "mimetype": "text/x-python",
   "name": "python",
   "nbconvert_exporter": "python",
   "pygments_lexer": "ipython3",
   "version": "3.8.10"
  }
 },
 "nbformat": 4,
 "nbformat_minor": 5
}
