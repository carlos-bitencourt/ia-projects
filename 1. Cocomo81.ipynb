{
 "cells": [
  {
   "cell_type": "code",
   "execution_count": 3,
   "id": "e23a6dcf",
   "metadata": {},
   "outputs": [],
   "source": [
    "import numpy as np\n",
    "import pandas as pd\n",
    "import matplotlib.pyplot as plt\n",
    "\n",
    "from scipy.io import arff\n",
    "\n",
    "#algoritmos ia\n",
    "from sklearn.neighbors import KNeighborsRegressor \n",
    "from sklearn.naive_bayes import GaussianNB \n",
    "from sklearn.neural_network import MLPRegressor\n",
    "from sklearn.ensemble import RandomForestRegressor\n",
    "from sklearn import svm \n",
    "\n",
    "from sklearn import model_selection as ms\n",
    "from sklearn.datasets import make_regression"
   ]
  },
  {
   "cell_type": "code",
   "execution_count": null,
   "id": "6f15469f",
   "metadata": {},
   "outputs": [],
   "source": [
    "#def Normalize(X):\n",
    "    #TODO: NORMALIZAR OS DADOS USANDO Z_SCORE\n",
    "    # X_Norm = X\n",
    "    #for i in range(len(X[0])):\n",
    "    #   m = np.mean(X[:, i])\n",
    "    #    s = np.std(X[:,i])\n",
    "    #    X_Norm[:, i] = (X_Norm[:,i] - m) / s\n",
    "    #return X_Norm"
   ]
  },
  {
   "cell_type": "code",
   "execution_count": null,
   "id": "4414e6e4",
   "metadata": {},
   "outputs": [],
   "source": [
    "#preparando dados\n",
    "data, meta = arff.loadarff('datasets/cocomo81.arff')\n",
    "\n",
    "#df = pd.DataFrame(data)\n",
    "#df.describe()\n",
    "#df.info()\n",
    "#df.hist(bins=50,figsize=(20,15))\n",
    "#plt.show()\n",
    "\n",
    "#df = pd.DataFrame(data)\n",
    "#X = df.drop('actual', axis = 1)\n",
    "#y = df['actual']\n",
    "\n",
    "# rely numeric required software reliability\n",
    "# data numeric data base size\n",
    "# cplx numeric process complexity\n",
    "# time numeric time constraint for cpu\n",
    "# stor numeric main memory constraint\n",
    "# virt numeric machine volatility\n",
    "# turn numeric turnaround time\n",
    "# acap numeric analysts capability\n",
    "# aexp numeric application experience\n",
    "# pcap numeric programmers capability\n",
    "# vexp numeric virtual machine experience\n",
    "# lexp numeric language experience\n",
    "# modp numeric modern programing practices\n",
    "# tool numeric use of  software tools\n",
    "# sced numeric schedule constraint\n",
    "# loc numeric  (precisará de normalização)\n",
    "# actual numeric (class)\n",
    "\n",
    "#Escolhendo os atributos e separando actual (classe continua)\n",
    "X=[]\n",
    "y=[]\n",
    "for df in data:\n",
    "  X.append([df['rely'],df['data'],df['cplx'],df['time'],df['stor'],df['virt'],df['turn'],df['acap'],df['vexp'],df['lexp'],df['modp'],df['tool'],df['sced'], df['loc']])\n",
    "  y.append(df['actual'])\n"
   ]
  },
  {
   "cell_type": "code",
   "execution_count": null,
   "id": "76f23eef",
   "metadata": {},
   "outputs": [],
   "source": [
    "#Instanciando os modelos\n",
    "knn = KNeighborsRegressor(n_neighbors=5) #modelo1\n",
    "#modelo2 MLPRegressor\n",
    "#modelo3 RandomForestRegressor\n",
    "#modelo4 svm\n",
    "#modelo5 GaussianNB"
   ]
  },
  {
   "cell_type": "code",
   "execution_count": null,
   "id": "5646bdb8",
   "metadata": {},
   "outputs": [],
   "source": [
    "#cross-validation\n",
    "kf = ms.StratifiedKFold(n_splits=3)\n",
    "#kf.get_n_splits(X, y)\n",
    "\n",
    "#tentando gerar dados de treino e teste. \n",
    "for train, test in kf.split(X, y): #ValueError: Supported target types are: ('binary', 'multiclass'). Got 'continuous' instead.\n",
    "    print(train)\n",
    "    print(test)"
   ]
  },
  {
   "cell_type": "code",
   "execution_count": 1,
   "id": "c8590fc9",
   "metadata": {},
   "outputs": [],
   "source": [
    "\n"
   ]
  }
 ],
 "metadata": {
  "kernelspec": {
   "display_name": "Python 3 (ipykernel)",
   "language": "python",
   "name": "python3"
  },
  "language_info": {
   "codemirror_mode": {
    "name": "ipython",
    "version": 3
   },
   "file_extension": ".py",
   "mimetype": "text/x-python",
   "name": "python",
   "nbconvert_exporter": "python",
   "pygments_lexer": "ipython3",
   "version": "3.8.10"
  }
 },
 "nbformat": 4,
 "nbformat_minor": 5
}
