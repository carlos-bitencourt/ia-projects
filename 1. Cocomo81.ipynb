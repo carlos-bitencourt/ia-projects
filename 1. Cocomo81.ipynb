{
 "cells": [
  {
   "cell_type": "code",
   "execution_count": 5,
   "id": "e23a6dcf",
   "metadata": {},
   "outputs": [],
   "source": [
    "import numpy as np\n",
    "\n",
    "import pandas as pd\n",
    "import matplotlib.pyplot as plt\n",
    "\n",
    "from scipy.io import arff\n",
    "\n",
    "\n",
    "#algoritmos ia\n",
    "from sklearn.neighbors import KNeighborsRegressor \n",
    "from sklearn.naive_bayes import GaussianNB \n",
    "from sklearn.neural_network import MLPRegressor\n",
    "from sklearn.ensemble import RandomForestRegressor\n",
    "from sklearn import svm \n",
    "\n",
    "from sklearn import model_selection as ms\n",
    "from sklearn.datasets import make_regression"
   ]
  },
  {
   "cell_type": "code",
   "execution_count": 6,
   "id": "6f15469f",
   "metadata": {},
   "outputs": [],
   "source": [
    "def Normalized(X):\n",
    "    #TODO: NORMALIZAR OS DADOS USANDO Z_SCORE\n",
    "     X_Norm = X\n",
    "     for i in range(len(X[0])):\n",
    "        m = np.mean(X[:, i])\n",
    "        s = np.std(X[:,i])\n",
    "        X_Norm[:, i] = (X[:,i] - m) / s\n",
    "     return X_Norm"
   ]
  },
  {
   "cell_type": "code",
   "execution_count": 7,
   "id": "4414e6e4",
   "metadata": {},
   "outputs": [],
   "source": [
    "#preparando dados\n",
    "#data, meta = arff.loadarff('datasets/cocomo81.arff')\n",
    "data = np.loadtxt('datasets/cocomo81.csv', delimiter=\",\")\n",
    "#Normalizando os valores\n",
    "data = Normalized(data)\n",
    "#removendo o atributo classe dos dados.\n",
    "X = data[:, :-1]\n",
    "#armazenando o atributo classe.\n",
    "y = data[:,-1]\n",
    "\n",
    "#df = pd.DataFrame(data)\n",
    "#df.head()\n",
    "#df.hist(bins=50,figsize=(20,15))\n",
    "#plt.show()"
   ]
  },
  {
   "cell_type": "code",
   "execution_count": 34,
   "id": "76f23eef",
   "metadata": {},
   "outputs": [],
   "source": [
    "models = []\n",
    "#Instanciando os modelos\n",
    "models.append(['KNN', KNeighborsRegressor(n_neighbors=5)]) #modelo1\n",
    "models.append(['MLP', MLPRegressor(activation='logistic', solver='sgd', alpha=0.02, max_iter=200, hidden_layer_sizes=100)])\n",
    "models.append(['RFR', RandomForestRegressor()])\n",
    "#models = svm()\n",
    "#models = GaussianNB()"
   ]
  },
  {
   "cell_type": "code",
   "execution_count": 35,
   "id": "a48ba701",
   "metadata": {},
   "outputs": [
    {
     "name": "stdout",
     "output_type": "stream",
     "text": [
      "KNN\n",
      "Score: [0.14698373 0.58256974 0.25355471]\n",
      "Mean MAE: 0.328\n",
      "MLP\n",
      "Score: [0.58483991 0.55240482 0.41016185]\n",
      "Mean MAE: 0.516\n",
      "RFR\n",
      "Score: [0.20888004 0.54267691 0.29479682]\n",
      "Mean MAE: 0.349\n"
     ]
    }
   ],
   "source": [
    "for model in models:\n",
    "    cv = ms.KFold(n_splits=3, shuffle=True, random_state=1)\n",
    "    scores = ms.cross_val_score(model[1], X, y, scoring='neg_mean_absolute_error', cv=cv, n_jobs=-1)\n",
    "    #convert scores to positive\n",
    "    scores = np.absolute(scores)\n",
    "    # summarize the result\n",
    "    s_mean = np.mean(scores)\n",
    "    print(model[0])\n",
    "    print('Score:', scores) \n",
    "    print('Mean MAE: %.3f' % (s_mean))"
   ]
  },
  {
   "cell_type": "code",
   "execution_count": null,
   "id": "c8590fc9",
   "metadata": {},
   "outputs": [],
   "source": [
    "\n"
   ]
  },
  {
   "cell_type": "code",
   "execution_count": null,
   "id": "f834960a",
   "metadata": {},
   "outputs": [],
   "source": []
  }
 ],
 "metadata": {
  "kernelspec": {
   "display_name": "Python 3 (ipykernel)",
   "language": "python",
   "name": "python3"
  },
  "language_info": {
   "codemirror_mode": {
    "name": "ipython",
    "version": 3
   },
   "file_extension": ".py",
   "mimetype": "text/x-python",
   "name": "python",
   "nbconvert_exporter": "python",
   "pygments_lexer": "ipython3",
   "version": "3.8.10"
  }
 },
 "nbformat": 4,
 "nbformat_minor": 5
}
