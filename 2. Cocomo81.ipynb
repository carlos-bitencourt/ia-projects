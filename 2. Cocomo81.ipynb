{
 "cells": [
  {
   "cell_type": "markdown",
   "id": "d49dba8a",
   "metadata": {},
   "source": [
    "## Cocomo81"
   ]
  },
  {
   "cell_type": "code",
   "execution_count": null,
   "id": "e23a6dcf",
   "metadata": {},
   "outputs": [],
   "source": [
    "import numpy as np\n",
    "\n",
    "import pandas as pd\n",
    "import matplotlib.pyplot as plt\n",
    "\n",
    "from scipy.io import arff\n",
    "\n",
    "#algoritmos ia\n",
    "from sklearn.neighbors import KNeighborsRegressor \n",
    "from sklearn.neural_network import MLPRegressor\n",
    "from sklearn.ensemble import RandomForestRegressor\n",
    "from sklearn import svm\n",
    "from sklearn.tree import DecisionTreeRegressor\n",
    "\n",
    "from sklearn import model_selection as ms\n",
    "from sklearn.model_selection import GridSearchCV"
   ]
  },
  {
   "cell_type": "markdown",
   "id": "de60162e",
   "metadata": {},
   "source": [
    "## Preparando dados"
   ]
  },
  {
   "cell_type": "code",
   "execution_count": null,
   "id": "4414e6e4",
   "metadata": {},
   "outputs": [],
   "source": [
    "#Carregando dados\n",
    "\n",
    "data, meta = arff.loadarff('datasets/cocomo81.arff')\n",
    "df = pd.DataFrame(data)\n",
    "df.head()"
   ]
  },
  {
   "cell_type": "code",
   "execution_count": null,
   "id": "5aa01008",
   "metadata": {},
   "outputs": [],
   "source": [
    "#removendo linhas com atributos nulos ou vazios\n",
    "\n",
    "df = df.dropna()\n",
    "\n",
    "#normalizando dados - #min-max df=(df-df.min())/(df.max()-df.min()) - #zscore df=(df-df.mean())/df.std()\n",
    "\n",
    "df = (df-df.mean())/df.std()\n",
    "\n",
    "#separando atributo classe actual para entrada nos modelos #df.columns[-1]\n",
    "\n",
    "X = df.drop(df.columns[-1], axis=1)\n",
    "y = df.take([-1], axis=1)"
   ]
  },
  {
   "cell_type": "markdown",
   "id": "e2af82fd",
   "metadata": {},
   "source": [
    "## Treinando e avaliando o desempenho dos modelos"
   ]
  },
  {
   "cell_type": "code",
   "execution_count": null,
   "id": "d7b2c1cc",
   "metadata": {},
   "outputs": [],
   "source": [
    "np.arange(0.001,0.1,0.001)"
   ]
  },
  {
   "cell_type": "code",
   "execution_count": null,
   "id": "70dcfb2f",
   "metadata": {},
   "outputs": [],
   "source": [
    "np.arange(2,11,2)"
   ]
  },
  {
   "cell_type": "code",
   "execution_count": 317,
   "id": "76f23eef",
   "metadata": {},
   "outputs": [],
   "source": [
    "models = []\n",
    "#Instanciando os modelos #0 - nome, 1 - instância, 2 - parâmetros\n",
    "#models.append(['DT', DecisionTreeRegressor())\n",
    "\"\"\"models.append(['KNN', KNeighborsRegressor(), {\"p\": [1,2], \n",
    "                                                    \"n_neighbors\" : np.arange(1,11), #1 a 10\n",
    "                                                    \"weights\": [\"uniform\", \"distance\"]\n",
    "                                                }])\"\"\"\n",
    "models.append(['MLP', MLPRegressor(), {\"hidden_layer_sizes\": np.arange(10,100,10),\n",
    "                                        \"activation\": ['identity', 'logistic', 'tanh', 'relu'],\n",
    "                                        \"solver\": ['lbfgs', 'sgd', 'adam'],\n",
    "                                        \"alpha\": np.arange(0.0001,0.001,0.0002),\n",
    "                                        \"learning_rate\" : ['constant', 'invscaling', 'adaptive'],\n",
    "                                        \"random_state\": [2],\n",
    "                                        \"max_iter\": [3000]\n",
    "                                        }])\n",
    "\"\"\"models.append(['RFR', RandomForestRegressor(), {\"n_estimators\": np.arange(5,20,5),\n",
    "                                                    \"max_depth\" : np.arange(2,14,2),\n",
    "                                                    \"random_state\": np.arange(2,14,2)\n",
    "                                                    }])\"\"\"\n",
    "\"\"\"models.append(['SVR', svm.SVR(), { \"kernel\" : [ 'poly', 'linear', 'rbf', 'sigmoid'], \n",
    "                                        \"C\": np.arange(2,14,2), #1 a 10\n",
    "                                        \"epsilon\": np.arange(0.001,0.1,0.002), # 0.1 a 0.9\n",
    "                                    }])\"\"\"\n",
    "\n",
    "cv = ms.KFold(n_splits=3, shuffle=True, random_state=1)"
   ]
  },
  {
   "cell_type": "code",
   "execution_count": 318,
   "id": "aac9bbc8",
   "metadata": {},
   "outputs": [
    {
     "name": "stdout",
     "output_type": "stream",
     "text": [
      "> MLP >------ MAE: 0.3438  ----- STD: 0.1377  ----- Best Params: {'activation': 'relu', 'alpha': 0.0007000000000000001, 'hidden_layer_sizes': 60, 'learning_rate': 'constant', 'max_iter': 3000, 'random_state': 2, 'solver': 'lbfgs'}\n"
     ]
    }
   ],
   "source": [
    "for model in models:\n",
    "    clf = GridSearchCV(model[1], model[2], scoring='neg_mean_absolute_error',  cv=cv,  n_jobs=-1)\n",
    "    clf.fit(X, y.values.ravel())\n",
    "    print(\">\", model[0], \">------ MAE: %.4f\" % (np.absolute(clf.best_score_)), \" ----- STD: %.4f\" % (clf.cv_results_['std_test_score'][clf.best_index_]), \" ----- Best Params:\", (clf.best_params_))"
   ]
  },
  {
   "cell_type": "code",
   "execution_count": null,
   "id": "ecb5bb9c",
   "metadata": {},
   "outputs": [],
   "source": [
    "scores = ms.cross_val_score(KNeighborsRegressor(n_neighbors=4, weights='distance'), X, y, scoring='neg_mean_absolute_error', cv=cv, n_jobs=-1)\n",
    "\n",
    "scores = np.absolute(scores)\n",
    "s_mean = np.mean(scores)\n",
    "s_std = np.std(scores)\n",
    "    \n",
    "print('Scores:', scores, 'MAE: %.4f' % (s_mean), 'STD: %.4f' % (s_std)) "
   ]
  },
  {
   "cell_type": "code",
   "execution_count": null,
   "id": "004b3db6",
   "metadata": {},
   "outputs": [],
   "source": [
    "\n",
    "\n",
    "parameters={\"splitter\":[\"best\",\"random\"],\n",
    "            \"max_depth\" : np.arange(1,10), #[ 1,  3,  5,  7,  9, 11, 13]\n",
    "            \"criterion\": [\"squared_error\", \"absolute_error\"]\n",
    "}\n",
    "dt = DecisionTreeRegressor()\n",
    "clf = GridSearchCV(dt, parameters, scoring='neg_mean_absolute_error',  cv=3,  n_jobs=-1)\n",
    "clf.fit(X, y)\n",
    "\n",
    "print(clf.best_estimator_)\n",
    "print(clf.best_score_)\n",
    "\n",
    "pd.DataFrame(clf.cv_results_)[['params',\n",
    "                                'mean_test_score',\n",
    "                                'rank_test_score',\n",
    "                                'std_test_score']].sort_index(by=[\"rank_test_score\"])\n",
    "\n"
   ]
  },
  {
   "cell_type": "code",
   "execution_count": null,
   "id": "a48ba701",
   "metadata": {},
   "outputs": [],
   "source": [
    "for model in models:\n",
    "    \n",
    "    scores = ms.cross_val_score(model[1], X, y, scoring='neg_mean_absolute_error', cv=cv, n_jobs=-1)\n",
    "    #converter para positivo.\n",
    "    scores = np.absolute(scores)\n",
    "    s_mean = np.mean(scores)\n",
    "    s_std = np.std(scores)\n",
    "    \n",
    "    print('-', model[0],'------------------------------------')\n",
    "    print('Scores:', scores, 'MAE: %.4f' % (s_mean), 'STD: %.4f' % (s_std)) "
   ]
  },
  {
   "cell_type": "code",
   "execution_count": null,
   "id": "116b8d6c",
   "metadata": {},
   "outputs": [],
   "source": [
    "dd"
   ]
  }
 ],
 "metadata": {
  "kernelspec": {
   "display_name": "Python 3 (ipykernel)",
   "language": "python",
   "name": "python3"
  },
  "language_info": {
   "codemirror_mode": {
    "name": "ipython",
    "version": 3
   },
   "file_extension": ".py",
   "mimetype": "text/x-python",
   "name": "python",
   "nbconvert_exporter": "python",
   "pygments_lexer": "ipython3",
   "version": "3.8.10"
  },
  "vscode": {
   "interpreter": {
    "hash": "e7370f93d1d0cde622a1f8e1c04877d8463912d04d973331ad4851f04de6915a"
   }
  }
 },
 "nbformat": 4,
 "nbformat_minor": 5
}
